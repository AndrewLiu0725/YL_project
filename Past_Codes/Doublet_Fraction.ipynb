{
 "cells": [
  {
   "cell_type": "code",
   "execution_count": 3,
   "metadata": {},
   "outputs": [],
   "source": [
    "import numpy as np \n",
    "import matplotlib.pyplot as plt\n",
    "import os\n",
    "import sys\n",
    "import time \n",
    "from scipy import fft, arange, signal"
   ]
  },
  {
   "cell_type": "code",
   "execution_count": 4,
   "metadata": {},
   "outputs": [
    {
     "name": "stdout",
     "output_type": "stream",
     "text": [
      "number of particles = 33\n",
      "Time elpased to collect COM data =  40.14094519615173\n"
     ]
    }
   ],
   "source": [
    "total_start_time = time.time()\n",
    "start_time = time.time()\n",
    "\n",
    "# parameter to determined\n",
    "Dm = 15.64\n",
    "criteria_Dm = 0.8\n",
    "phi, eqWCA, Ca, D = 5, 0.8, 0.03, 0\n",
    "dim = [144, 24, 144]\n",
    "\n",
    "def getCOM(path):\n",
    "    temp_positionCOM = []\n",
    "    with open(path) as f:\n",
    "        for index, line in enumerate(f):\n",
    "            if index > 0: temp_positionCOM.append([float(i)%dim[dim_index] for dim_index, i in enumerate(line.split()[1: 4])])\n",
    "    positionCOM = np.zeros((3, len(temp_positionCOM)))\n",
    "    for i in range(len(temp_positionCOM)):\n",
    "        positionCOM[:, i] = temp_positionCOM[i]\n",
    "    return positionCOM\n",
    "\n",
    "if phi == 5:\n",
    "    job_name = job_name = \"phi{}/Re0.1/eqWCA{}/h24phi{}Re0.1Ca{}D{}eqWCA{}\".format(phi, eqWCA, phi, Ca, D, eqWCA)\n",
    "else:\n",
    "    job_name = \"phi{}/eqWCA{}/h24phi{}Re0.1Ca{}D{}eqWCA{}\".format(phi, eqWCA, phi, Ca, D, eqWCA)\n",
    "path_job = \"/Users/andrewliu/remote_disk/{}/data\".format(job_name)\n",
    "\n",
    "particle_numbers = 0\n",
    "for fn in os.listdir(path_job):\n",
    "    if fn.split('.')[0] == \"sphere_props\": particle_numbers += 1\n",
    "\n",
    "timesteps = getCOM(path_job+'/sphere_props.0.dat').shape[1] # WriteProps = 2000\n",
    "COMs = np.zeros((particle_numbers, 3, timesteps))\n",
    "print(\"number of particles =\", particle_numbers)\n",
    "\n",
    "for i in range(particle_numbers):\n",
    "    COMs[i, :, :] = getCOM(path_job+'/sphere_props.{}.dat'.format(i))\n",
    "print('Time elpased to collect COM data = ', time.time()-start_time)"
   ]
  },
  {
   "cell_type": "code",
   "execution_count": 5,
   "metadata": {},
   "outputs": [
    {
     "name": "stdout",
     "output_type": "stream",
     "text": [
      "Time elpased to collect bond0.vtk data =  983.8264603614807\n"
     ]
    }
   ],
   "source": [
    "start_time = time.time()\n",
    "\n",
    "\n",
    "bead_number = 642 # 642 beads per particle\n",
    "time_index = [] # every WriteConfig timesteps will generate a bond0.vtk, len(time_index) = timesteps/2\n",
    "for fn in os.listdir(path_job):\n",
    "    if fn.split('_')[0] == \"bond0\": time_index.append(((fn.split('_')[1]).split('.')[0])[1:])\n",
    "sorted(time_index, key= lambda k: int(k))\n",
    "\n",
    "def getYpos(time):\n",
    "    f = open(path_job+\"/bond0_t{}.vtk\".format(time))\n",
    "    data = f.readlines()\n",
    "    entering_data = 0\n",
    "    for line_index, line in enumerate(data):\n",
    "        if line[0].isdigit() and entering_data == 0:\n",
    "            end_pos_format = line_index\n",
    "            entering_data = 1\n",
    "            break\n",
    "    Ypos = np.zeros(particle_numbers)\n",
    "    for i in range(particle_numbers):\n",
    "        Ypos[i] = float(data[i*bead_number+end_pos_format].split()[1])\n",
    "    f.close()\n",
    "    return(Ypos)\n",
    "\n",
    "def getYpos2(time):\n",
    "    reader = vtk.vtkUnstructuredGridReader()\n",
    "    reader.SetFileName(path_job+\"/bond0_t{}.vtk\".format(time))\n",
    "    reader.Update() # Needed because of GetScalarRange\n",
    "    points = np.array( reader.GetOutput().GetPoints().GetData() )\n",
    "    Ypos = points[::int(bead_number/6), 1]\n",
    "    return(Ypos)\n",
    "\n",
    "interval = 200\n",
    "Ypos_t = np.zeros((int(particle_numbers), interval))\n",
    "for i in range(interval):\n",
    "    Ypos_t[:, i] = getYpos(time_index[int(timesteps/4)+i]) # from the middle of bond0.vtks\n",
    "    \n",
    "\n",
    "print('Time elpased to collect bond0.vtk data = ', time.time()-start_time)"
   ]
  },
  {
   "cell_type": "code",
   "execution_count": 6,
   "metadata": {},
   "outputs": [
    {
     "data": {
      "image/png": "[encoded data removed]",
      "text/plain": [
       "<Figure size 432x288 with 1 Axes>"
      ]
     },
     "metadata": {
      "needs_background": "light"
     },
     "output_type": "display_data"
    },
    {
     "name": "stdout",
     "output_type": "stream",
     "text": [
      "Rotation time =  35\n",
      "Time elpased to calculate rotation time =  0.3497319221496582\n"
     ]
    }
   ],
   "source": [
    "# Calculate the rotating period here\n",
    "\n",
    "start_time = time.time()\n",
    "\n",
    "Periods = np.zeros(particle_numbers)\n",
    "for i in range(particle_numbers):\n",
    "    Ypos_t_norm = Ypos_t[i, :] - np.mean(Ypos_t[i, :])\n",
    "    f, Pxx = signal.periodogram(Ypos_t_norm, fs = 1, window='hanning', scaling='spectrum')\n",
    "    Periods[i] = 1/(f[np.argsort(Pxx)[-1]])\n",
    "\n",
    "rotation_time = int(round(np.mean(Periods)*2)) # WriteConfig/WriteProps = 4000/2000 = 2\n",
    "\n",
    "plt.hist(Periods, bins = particle_numbers)\n",
    "plt.title(\"mean = {}\\nstd = {}\".format(np.mean(Periods), np.std(Periods)))\n",
    "plt.show()\n",
    "print(\"Rotation time = \",rotation_time)\n",
    "print('Time elpased to calculate rotation time = ', time.time()-start_time)"
   ]
  },
  {
   "cell_type": "code",
   "execution_count": 7,
   "metadata": {
    "scrolled": false
   },
   "outputs": [
    {
     "ename": "NameError",
     "evalue": "name 'period' is not defined",
     "output_type": "error",
     "traceback": [
      "\u001b[0;31m---------------------------------------------------------------------------\u001b[0m",
      "\u001b[0;31mNameError\u001b[0m                                 Traceback (most recent call last)",
      "\u001b[0;32m<ipython-input-7-efceb532b6c6>\u001b[0m in \u001b[0;36m<module>\u001b[0;34m\u001b[0m\n\u001b[1;32m     34\u001b[0m \u001b[0mcriteria_Ts\u001b[0m \u001b[0;34m=\u001b[0m \u001b[0;34m[\u001b[0m\u001b[0;36m1\u001b[0m\u001b[0;34m,\u001b[0m \u001b[0;36m1.25\u001b[0m\u001b[0;34m,\u001b[0m \u001b[0;36m1.5\u001b[0m\u001b[0;34m]\u001b[0m\u001b[0;34m\u001b[0m\u001b[0;34m\u001b[0m\u001b[0m\n\u001b[1;32m     35\u001b[0m \u001b[0mfig\u001b[0m\u001b[0;34m,\u001b[0m \u001b[0max1\u001b[0m \u001b[0;34m=\u001b[0m \u001b[0mplt\u001b[0m\u001b[0;34m.\u001b[0m\u001b[0msubplots\u001b[0m\u001b[0;34m(\u001b[0m\u001b[0;34m)\u001b[0m\u001b[0;34m\u001b[0m\u001b[0;34m\u001b[0m\u001b[0m\n\u001b[0;32m---> 36\u001b[0;31m \u001b[0mnumber_of_doublets\u001b[0m \u001b[0;34m=\u001b[0m \u001b[0mnp\u001b[0m\u001b[0;34m.\u001b[0m\u001b[0mzeros\u001b[0m\u001b[0;34m(\u001b[0m\u001b[0mtimesteps\u001b[0m \u001b[0;34m-\u001b[0m \u001b[0mperiod\u001b[0m\u001b[0;34m)\u001b[0m\u001b[0;34m\u001b[0m\u001b[0;34m\u001b[0m\u001b[0m\n\u001b[0m\u001b[1;32m     37\u001b[0m \u001b[0;32mfor\u001b[0m \u001b[0mcriteria_T\u001b[0m \u001b[0;32min\u001b[0m \u001b[0mcriteria_Ts\u001b[0m\u001b[0;34m:\u001b[0m\u001b[0;34m\u001b[0m\u001b[0;34m\u001b[0m\u001b[0m\n\u001b[1;32m     38\u001b[0m     \u001b[0mperiod\u001b[0m \u001b[0;34m=\u001b[0m \u001b[0mcriteria_T\u001b[0m\u001b[0;34m*\u001b[0m\u001b[0mrotation_time\u001b[0m\u001b[0;34m\u001b[0m\u001b[0;34m\u001b[0m\u001b[0m\n",
      "\u001b[0;31mNameError\u001b[0m: name 'period' is not defined"
     ]
    },
    {
     "data": {
      "image/png": "[encoded data removed]",
      "text/plain": [
       "<Figure size 432x288 with 1 Axes>"
      ]
     },
     "metadata": {
      "needs_background": "light"
     },
     "output_type": "display_data"
    }
   ],
   "source": [
    "start_time = time.time()\n",
    "\n",
    "number_of_pairs = int((particle_numbers-1)*particle_numbers/2)\n",
    "diffpos = np.zeros((number_of_pairs, timesteps))\n",
    "indice_pairs = np.zeros((number_of_pairs, 2))\n",
    "\n",
    "count = 0\n",
    "for i in range(particle_numbers-1):\n",
    "    for j in range(i+1, particle_numbers):\n",
    "        indice_pairs[count, 0], indice_pairs[count, 1] = i, j\n",
    "        diffpos[count, :] = np.linalg.norm((COMs[i, :, :] - COMs[j, :, :]), axis=0)\n",
    "        count += 1       \n",
    "\n",
    "# coorect diffpos here\n",
    "for k in range(number_of_pairs):\n",
    "    for t in range(1, timesteps):\n",
    "        if (diffpos[k, t-1] < 2*Dm) and (diffpos[k, t] > 6*Dm): # one of the two RBCs cross the boundry\n",
    "            i, j = int(indice_pairs[k,0]), int(indice_pairs[k,1])\n",
    "            correct_current_pos = COMs[j, :, t] # modify the position of the latter one of the two RBCs\n",
    "            \n",
    "            # modify the x coordinate \n",
    "            if (COMs[i, 0, t]-int(dim[0]/2))*(COMs[j, 0, t]-int(dim[0]/2)) < 0:\n",
    "                if (COMs[j, 0, t]-int(dim[0]/2)) < 0: correct_current_pos[0] += int(dim[0])\n",
    "                else: correct_current_pos[0] -= int(dim[0])\n",
    "            \n",
    "            # modify the z coordinate \n",
    "            if (COMs[i, 2, t]-int(dim[1]/2))*(COMs[j, 2, t]-int(dim[1]/2)) < 0:\n",
    "                if (COMs[j, 2, t]-int(dim[1]/2)) < 0: correct_current_pos[2] += int(dim[1])\n",
    "                else: correct_current_pos[2] -= int(dim[1])\n",
    "            \n",
    "            # calculate the correct diff COM distance here\n",
    "            diffpos[k, t] = np.linalg.norm(COMs[i, :, t] - correct_current_pos)\n",
    "                \n",
    "criteria_Ts = [1, 1.25, 1.5]\n",
    "fig, ax1 = plt.subplots()\n",
    "number_of_doublets = np.zeros(timesteps - period)\n",
    "for criteria_T in criteria_Ts:\n",
    "    period = criteria_T*rotation_time \n",
    "    for t in range(timesteps - period):\n",
    "        for i in range(number_of_pairs):\n",
    "            if max(diffpos[i,t:t+period]) < criteria_Dm*Dm: number_of_doublets[t] += 1\n",
    "    ax1.plot(np.array(list(range(timesteps - period)))*2000, number_of_doublets/particle_numbers, \n",
    "             label = \"{}t_rot\".format(criteria_T)) # WriteProps = 2000\n",
    "ax1.set_xlabel(\"timesteps\")\n",
    "ax1.set_ylabel(\"doublet fraction\")\n",
    "ax1.set_title(\"h=24, phi={}, Re=0.1, Ca={}, D={}, eqWCA={}, r = {}Dm \".format(phi, Ca, D, eqWCA, criteria_Dm))\n",
    "ax1.legend()\n",
    "ax2 = ax1.twinx()\n",
    "mn, mx = ax1.get_ylim()\n",
    "ax2.set_ylim(mn*particle_numbers, mx*particle_numbers)\n",
    "ax2.set_ylabel('# of doublets')\n",
    "#plt.savefig(\"./Pictures/h24phi{}Re0.1Ca{}D{}eqWCA{}_r{}T{}_corrected.png\".format(phi, Ca, D, eqWCA, criteria_Dm, criteria_T), dpi = 300)\n",
    "print('Time elpased to calculate the number of doublets = ', time.time()-start_time)\n",
    "print('Total time elapsed = ', time.time()-total_start_time)"
   ]
  }
 ],
 "metadata": {
  "kernelspec": {
   "display_name": "Python 3",
   "language": "python",
   "name": "python3"
  },
  "language_info": {
   "codemirror_mode": {
    "name": "ipython",
    "version": 3
   },
   "file_extension": ".py",
   "mimetype": "text/x-python",
   "name": "python",
   "nbconvert_exporter": "python",
   "pygments_lexer": "ipython3",
   "version": "3.7.6"
  }
 },
 "nbformat": 4,
 "nbformat_minor": 2
}
