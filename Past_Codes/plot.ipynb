{
 "cells": [
  {
   "cell_type": "code",
   "execution_count": 1,
   "metadata": {},
   "outputs": [],
   "source": [
    "import numpy as np \n",
    "import matplotlib.pyplot as plt\n",
    "import os\n",
    "import vtk\n",
    "import time\n",
    "from vtk import vtkStructuredPointsReader\n",
    "from vtk.util import numpy_support as VN"
   ]
  },
  {
   "cell_type": "code",
   "execution_count": 17,
   "metadata": {},
   "outputs": [
    {
     "name": "stdout",
     "output_type": "stream",
     "text": [
      "Total elapsed time = 41.69823408126831\n",
      "Total elapsed time to produce this GIF = 10.657912254333496\n"
     ]
    },
    {
     "data": {
      "text/html": [
       "<img src=\"shearrate_3748948e-02.gif\"/>"
      ],
      "text/plain": [
       "<IPython.core.display.Image object>"
      ]
     },
     "execution_count": 17,
     "metadata": {},
     "output_type": "execute_result"
    }
   ],
   "source": [
    "starttime = time.time()\n",
    "\n",
    "def getulsit(volumefraction, shearrate):\n",
    "        # Get and store the filename of ufile\n",
    "        # path = '/Users/andrewliu/remote_disk/RBC_omp_single/Data/phi_' + volumefraction + '_rate_' + shearrate + '_np_1/data/'\n",
    "        path = '/Users/andrewliu/Code/IOP/Data/phi_' + volumefraction + '_rate_' + shearrate + '_np_1/data/'\n",
    "        datalist = os.listdir(path)\n",
    "        ulist = []\n",
    "        timeindex = []\n",
    "        for fn in datalist:\n",
    "                if fn[0] == 'u': \n",
    "                        ulist.append(fn)\n",
    "                        timeindex.append(float(fn.split('.')[1]))\n",
    "        # Sort the ulist accorind to time\n",
    "        ulist = [ulist[i] for i in np.argsort(np.array(timeindex))]\n",
    "        return ulist, path\n",
    "\n",
    "def uofrt(ulist, path, bound, direction):\n",
    "    ut = np.zeros((len(ulist), 2*bound))\n",
    "    for index, i in enumerate(ulist):\n",
    "        reader = vtkStructuredPointsReader()\n",
    "        reader.SetFileName(path + i)\n",
    "        reader.ReadAllVectorsOn()\n",
    "        reader.ReadAllScalarsOn()\n",
    "        reader.Update()\n",
    "        data = reader.GetOutput()\n",
    "        u = VN.vtk_to_numpy(data.GetPointData().GetArray('fluid'))\n",
    "        dim = list(data.GetDimensions())\n",
    "        ut[index, :] = u[(dim[0]*dim[1]*int(dim[2]/2)+dim[0]*int(dim[1]/2)): (dim[0]*dim[1]*int(dim[2]/2)+dim[0]*int(dim[1]/2) + 2*bound), direction]\n",
    "    return ut\n",
    "\n",
    "bounds = [14, 10]\n",
    "phis = ['493', '982']\n",
    "shearrates = ['937237e-03', '1405855e-02', '1874474e-02', '3748948e-02']\n",
    "shearrate = shearrates[3]\n",
    "direction = 2 # 0 for x, 1 for y, 2 for z\n",
    "fieldname = ['ux', 'uy', 'uz']\n",
    "\n",
    "# Store uz file\n",
    "for index, phi in enumerate(phis):\n",
    "    ulist, path = getulsit(phi, shearrate)\n",
    "    if index == 0:    \n",
    "        if shearrate == shearrates[0]:\n",
    "            result1 = uofrt(ulist, path, bounds[index], direction)[1000:,:]\n",
    "        else:\n",
    "            result1 = uofrt(ulist, path, bounds[index], direction)[600:,:]\n",
    "    else:\n",
    "        result2 = uofrt(ulist, path, bounds[index], direction)[600:,:]\n",
    "print('Total elapsed time =', time.time() - starttime)\n",
    "\n",
    "# Make animation here\n",
    "\n",
    "from matplotlib.animation import FuncAnimation\n",
    "\n",
    "starttime = time.time()\n",
    "y_upperbound = max(result1.max(), result2.max())\n",
    "y_lowerbound = min(result1.min(), result2.min())\n",
    "fig = plt.figure(figsize = (12, 9))\n",
    "fig.suptitle('Hydrodynamic Field - {0} \\n Shear rate = {1}.{2}'.format(fieldname[direction], shearrate[0], shearrate[1:]), fontsize = 16)\n",
    "ax = plt.axes(xlim = (-14, 14), ylim = (y_lowerbound, y_upperbound))\n",
    "line1, line2 = ax.plot([], [],[], [], lw=2)\n",
    "line2.set_color('darkorange')\n",
    "line1.set_color('royalblue')\n",
    "\n",
    "r1 = list(np.arange(-bounds[0], bounds[0]+1))\n",
    "r1.remove(0)\n",
    "r2 = list(np.arange(-bounds[1], bounds[1]+1))\n",
    "r2.remove(0)\n",
    "\n",
    "def init():\n",
    "    line1.set_data([],[])\n",
    "    line2.set_data([],[])\n",
    "    return tuple([line1, line2])\n",
    "\n",
    "def animate(i):\n",
    "    line1.set_data(r1, result1[i, :])\n",
    "    line2.set_data(r2, result2[i, :])\n",
    "    ax.set_xlabel('r \\n timestep {0}'.format(i), fontsize = 16)\n",
    "    ax.set_ylabel(fieldname[direction], fontsize = 16)\n",
    "    ax.legend(['4.93%', '9.82%'])\n",
    "    return tuple([line1, line2])\n",
    "\n",
    "anim = FuncAnimation(fig, animate, init_func = init, frames = 200, interval = 100, blit = True)\n",
    "anim.save('{0}_shearrate_{1}'.format(fieldname[direction], shearrate) + '.gif', writer = 'pillow')\n",
    "plt.close()\n",
    "print('Total elapsed time to produce this GIF =', time.time() - starttime)\n",
    "\n",
    "from IPython.display import Image\n",
    "Image(url='shearrate_' + shearrate + '.gif')  "
   ]
  }
 ],
 "metadata": {
  "kernelspec": {
   "display_name": "Python 3",
   "language": "python",
   "name": "python3"
  },
  "language_info": {
   "codemirror_mode": {
    "name": "ipython",
    "version": 3
   },
   "file_extension": ".py",
   "mimetype": "text/x-python",
   "name": "python",
   "nbconvert_exporter": "python",
   "pygments_lexer": "ipython3",
   "version": "3.7.3"
  }
 },
 "nbformat": 4,
 "nbformat_minor": 2
}
