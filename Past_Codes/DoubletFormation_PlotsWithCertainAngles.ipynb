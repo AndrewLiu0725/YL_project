{
 "cells": [
  {
   "cell_type": "code",
   "execution_count": 1,
   "metadata": {},
   "outputs": [],
   "source": [
    "import numpy as np \n",
    "import matplotlib.pyplot as plt\n",
    "import sys\n",
    "import time\n",
    "from RBC_Utilities import calcDoubletFraction, getInstrinsicViscosity, getStress"
   ]
  },
  {
   "cell_type": "markdown",
   "metadata": {},
   "source": [
    "## Instrinsic Viscosity vs Ca (Angles)"
   ]
  },
  {
   "cell_type": "code",
   "execution_count": null,
   "metadata": {},
   "outputs": [],
   "source": [
    "start_time = time.time()\n",
    "\n",
    "timesteps = 2000\n",
    "phis = [4.7, 3.8]\n",
    "angles = [90-30*i for i in range(6)]\n",
    "Ca_list = [(i+1)*0.01 for i in range(20)]\n",
    "Ca_list += [round(i*0.0025+0.05,5) for i in range(20)]\n",
    "Ca_list += [round(i*0.0025+0.02,5) for i in range(12)]\n",
    "Ca_list += [round(i*0.0025+0.1025,5) for i in range(2)]\n",
    "Ca_list = list(set(Ca_list))\n",
    "Ca_list.sort()\n",
    "\n",
    "intrinsic_eta = np.zeros((len(phis), len(Ca_list), len(angles),3))\n",
    "for phi_index, phi in enumerate(phis):\n",
    "    for Ca_index, Ca in enumerate(Ca_list):\n",
    "        for angle_index, angle in enumerate(angles):\n",
    "            result = getInstrinsicViscosity(phi, Ca, 0, timesteps, angle)\n",
    "            intrinsic_eta[phi_index, Ca_index, angle_index, 0] = np.mean(result)\n",
    "            intrinsic_eta[phi_index, Ca_index, angle_index, 1] = np.mean(result[-int(timesteps/2):])\n",
    "            intrinsic_eta[phi_index, Ca_index, angle_index, 2] = np.mean(result[-int(timesteps/4):])\n",
    "            \n",
    "#intrinsic_eta = intrinsic_eta/len(angles)\n",
    "for phi_index, phi in enumerate(phis):\n",
    "    plt.figure(figsize = (16,12))\n",
    "    for angle_index, angle in enumerate(angles):\n",
    "        plt.plot(Ca_list, intrinsic_eta[phi_index, :, angle_index, 0], label = ('angle = '+str(angle)+'\\nwhole time series'))\n",
    "        #plt.plot(Ca_list, intrinsic_eta[phi_index, :, angle_index, 1], label = ('angle = '+str(angle)+'\\nsecond half'))\n",
    "        #plt.plot(Ca_list, intrinsic_eta[phi_index, :, angle_index, 2], label = ('angle = '+str(angle)+'\\nlast quarter'))\n",
    "    plt.xlabel('Ca', fontsize = 20)\n",
    "    plt.ylabel(r'$\\left[ \\eta \\right]$', fontsize = 20)\n",
    "    plt.legend(prop={'size': 20})\n",
    "    plt.title(r'$\\left[ \\eta \\right]$'+'vs Ca - Two-cell system, phi = {}'.format(phis[phi_index]), fontsize = 20)\n",
    "    plt.savefig(\"./Pictures/IntrinsicViscosity_TwoCellSystem_angles_WholeSeries_phi_{}.png\".format(phis[phi_index]), dpi = 300)\n",
    "\n",
    "print('Total time elapsed = ', time.time()-start_time)"
   ]
  },
  {
   "cell_type": "markdown",
   "metadata": {},
   "source": [
    "## Elastic stress yx vs Ca (Angles)"
   ]
  },
  {
   "cell_type": "code",
   "execution_count": null,
   "metadata": {},
   "outputs": [],
   "source": [
    "start_time = time.time()\n",
    "stress_category_id = 0\n",
    "\n",
    "phis = [4.7, 3.8]\n",
    "angles = [90-30*i for i in range(6)]\n",
    "Ca_list = [(i+1)*0.01 for i in range(20)]\n",
    "Ca_list += [round(i*0.0025+0.05,5) for i in range(20)]\n",
    "Ca_list += [round(i*0.0025+0.02,5) for i in range(12)]\n",
    "Ca_list += [round(i*0.0025+0.1025,5) for i in range(2)]\n",
    "Ca_list = list(set(Ca_list))\n",
    "Ca_list.sort()\n",
    "\n",
    "results = np.zeros((2, len(angles), len(Ca_list)))\n",
    "\n",
    "for phi_index, phi in enumerate(phis):\n",
    "    for Ca_index, Ca in enumerate(Ca_list):\n",
    "        print(\"phi = {}, Ca = {}\".format(phi, Ca))\n",
    "        for angle_index, angle in enumerate(angles):\n",
    "            results[phi_index, angle_index, Ca_index] = np.mean(getStress(phi, Ca, stress_category_id, 1000, 2000, angle)[:,3])\n",
    "\n",
    "for phi_index, phi in enumerate(phis):\n",
    "    plt.figure(figsize = (16,12))\n",
    "    plt.title(stress_category[stress_category_id]+'\\nTwo-cell system, phi = {}'.format(phis[phi_index]), fontsize = 30)\n",
    "    for angle_index, angle in enumerate(angles):\n",
    "        plt.plot(Ca_list, results[phi_index, angle_index,:], label = 'angle = {}'.format(angle))\n",
    "    plt.legend(prop={'size': 15})\n",
    "    plt.savefig(\"./Pictures/StressTensor_\"+stress_category[stress_category_id]+\"_TwoCell_angles_SecondHalf_phi_{}.png\".format(phis[phi_index]), dpi = 300)    \n",
    "print('Total time elapsed = ', time.time()-start_time)"
   ]
  },
  {
   "cell_type": "markdown",
   "metadata": {},
   "source": [
    "## Doublet fraction vs Ca (Angles)"
   ]
  },
  {
   "cell_type": "code",
   "execution_count": null,
   "metadata": {},
   "outputs": [],
   "source": [
    "# Make mean doublet fraction (ensemble) versus Ca plot here\n",
    "\n",
    "start_time = time.time()\n",
    "\n",
    "ncycle = 2000\n",
    "phis = [4.7, 3.8]\n",
    "Dms = [1.0]\n",
    "Ts = [1.0]\n",
    "text = ['Whole Series', 'Second half']\n",
    "\n",
    "Ca_list = [round(i*0.0025+0.05,5) for i in range(20)]\n",
    "Ca_list += [(i+1)*0.01 for i in range(20)]\n",
    "Ca_list += [round(i*0.0025+0.02,5) for i in range(12)]\n",
    "Ca_list += [round(i*0.0025+0.1025,5) for i in range(2)]\n",
    "Ca_list = list(set(Ca_list))\n",
    "Ca_list.sort()\n",
    "\n",
    "angles = [90-30*i for i in range(6)]\n",
    "dfa = np.zeros((len(phis), len(Dms)*len(Ts), len(Ca_list), len(angles), 2))\n",
    "for phi_index, phi in enumerate(phis):\n",
    "    for Ca_index, Ca in enumerate(Ca_list):\n",
    "        print(\"phi = {}, Ca = {}\".format(phi, Ca))\n",
    "        for angle_index, angle in enumerate(angles):\n",
    "            result = calcDoubletFraction(phi, Ca, Ts, Dms, 0, angle)\n",
    "            dfa[phi_index, :, Ca_index, angle_index, 0] = result[:, 0]\n",
    "            dfa[phi_index, :, Ca_index, angle_index, 1] = result[:, 1]\n",
    "#dfa = dfa/len(angles) # average over the ensemble\n",
    "\n",
    "for phi_index, phi in enumerate(phis):\n",
    "    for i in range(2):\n",
    "        plt.figure(figsize = (16,12))\n",
    "        for angle_index, angle in enumerate(angles):\n",
    "            for label_index in range(len(Dms)*len(Ts)):\n",
    "                plt.plot(Ca_list, dfa[phi_index, label_index, :, angle_index, 0] \n",
    "                         ,label = 'angle = {}'.format(angle))\n",
    "\n",
    "        plt.xlabel(\"Ca\", fontsize = 20)\n",
    "        plt.ylabel(\"Doublet Fraction\", fontsize = 20)\n",
    "        plt.legend(prop={'size': 15})\n",
    "        plt.title(\"Two-cell system, phi = {}, {}\".format(phi, text[i]), fontsize = 30)\n",
    "        plt.savefig(\"./Pictures/TwoCellSystem_Doublet_Fraction_averageDF_vs_Ca_ncycle_{}_angles_phi_{}_{}.png\".\n",
    "                    format(ncycle, phi, text[i]), dpi = 300)\n",
    "\n",
    "print('Total time elapsed = ', time.time()-start_time)"
   ]
  }
 ],
 "metadata": {
  "kernelspec": {
   "display_name": "Python 3",
   "language": "python",
   "name": "python3"
  },
  "language_info": {
   "codemirror_mode": {
    "name": "ipython",
    "version": 3
   },
   "file_extension": ".py",
   "mimetype": "text/x-python",
   "name": "python",
   "nbconvert_exporter": "python",
   "pygments_lexer": "ipython3",
   "version": "3.7.6"
  }
 },
 "nbformat": 4,
 "nbformat_minor": 4
}